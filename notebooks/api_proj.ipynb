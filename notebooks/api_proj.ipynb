{
 "cells": [
  {
   "cell_type": "code",
   "execution_count": null,
   "id": "83759409",
   "metadata": {},
   "outputs": [],
   "source": [
    "import requests\n",
    "import matplotlib.pyplot as plt\n",
    "import pandas as pd\n",
    "import re"
   ]
  },
  {
   "cell_type": "code",
   "execution_count": null,
   "id": "b09aa0e0",
   "metadata": {},
   "outputs": [],
   "source": [
    "endpoint = 'https://data.nashville.gov/resource/fuaa-r5cm.json?query_text=fire&year=2016'\n",
    "response = requests.get(endpoint)"
   ]
  },
  {
   "cell_type": "code",
   "execution_count": null,
   "id": "d55e3c9b",
   "metadata": {},
   "outputs": [],
   "source": [
    "response"
   ]
  },
  {
   "cell_type": "code",
   "execution_count": null,
   "id": "ba59b685",
   "metadata": {},
   "outputs": [],
   "source": [
    "response.text"
   ]
  },
  {
   "cell_type": "code",
   "execution_count": null,
   "id": "06bf3e9e",
   "metadata": {},
   "outputs": [],
   "source": [
    "res = response.json()\n",
    "res"
   ]
  },
  {
   "cell_type": "markdown",
   "id": "567b904c",
   "metadata": {},
   "source": [
    "# August"
   ]
  },
  {
   "cell_type": "code",
   "execution_count": null,
   "id": "34f415f7",
   "metadata": {},
   "outputs": [],
   "source": [
    "endpoint_100 = 'https://data.nashville.gov/resource/fuaa-r5cm.json?$where=query_count > 100&$limit=44000'"
   ]
  },
  {
   "cell_type": "code",
   "execution_count": null,
   "id": "af0674ce",
   "metadata": {},
   "outputs": [],
   "source": [
    "response = requests.get(endpoint_100)\n",
    "response"
   ]
  },
  {
   "cell_type": "code",
   "execution_count": null,
   "id": "f40743a2",
   "metadata": {},
   "outputs": [],
   "source": [
    "response.text"
   ]
  },
  {
   "cell_type": "code",
   "execution_count": null,
   "id": "8c3d20ab",
   "metadata": {},
   "outputs": [],
   "source": [
    "res100 = response.json()\n",
    "res100"
   ]
  },
  {
   "cell_type": "code",
   "execution_count": null,
   "id": "db9129ff",
   "metadata": {},
   "outputs": [],
   "source": [
    "len(res100)"
   ]
  },
  {
   "cell_type": "code",
   "execution_count": null,
   "id": "32c2555c",
   "metadata": {},
   "outputs": [],
   "source": [
    "endpoint_codes = 'https://data.nashville.gov/resource/fuaa-r5cm.json?$where=query_count > 100&query_text=codes&$limit=44000'"
   ]
  },
  {
   "cell_type": "code",
   "execution_count": null,
   "id": "ab30b48b",
   "metadata": {},
   "outputs": [],
   "source": [
    "response = requests.get(endpoint_codes)\n",
    "response"
   ]
  },
  {
   "cell_type": "code",
   "execution_count": null,
   "id": "9ed31f78",
   "metadata": {},
   "outputs": [],
   "source": [
    "response.text"
   ]
  },
  {
   "cell_type": "code",
   "execution_count": null,
   "id": "e0e24393",
   "metadata": {},
   "outputs": [],
   "source": [
    "res_codes = response.json()\n",
    "res_codes"
   ]
  },
  {
   "cell_type": "code",
   "execution_count": null,
   "id": "fc639412",
   "metadata": {},
   "outputs": [],
   "source": [
    "len(res_codes)"
   ]
  },
  {
   "cell_type": "code",
   "execution_count": null,
   "id": "fcb51193",
   "metadata": {},
   "outputs": [],
   "source": [
    "endpoint_total = 'https://data.nashville.gov/resource/fuaa-r5cm.json?query_text=maps'\n",
    "response_total = requests.get(endpoint_total)"
   ]
  },
  {
   "cell_type": "code",
   "execution_count": null,
   "id": "92f31d31",
   "metadata": {},
   "outputs": [],
   "source": [
    "response_total"
   ]
  },
  {
   "cell_type": "code",
   "execution_count": null,
   "id": "a284024c",
   "metadata": {},
   "outputs": [],
   "source": [
    "response_total.text"
   ]
  },
  {
   "cell_type": "code",
   "execution_count": null,
   "id": "7af999ce",
   "metadata": {},
   "outputs": [],
   "source": [
    "res_total = response_total.json()\n",
    "res_total"
   ]
  },
  {
   "cell_type": "code",
   "execution_count": null,
   "id": "a4b5156d",
   "metadata": {},
   "outputs": [],
   "source": [
    "len(res_total)"
   ]
  },
  {
   "cell_type": "code",
   "execution_count": null,
   "id": "e71c3739",
   "metadata": {},
   "outputs": [],
   "source": [
    "endpoint_total_m = 'https://data.nashville.gov/resource/fuaa-r5cm.json?$select=month_name,SUM(query_count)&query_text=maps&$group=month_name&$order=SUM(query_count) DESC'\n",
    "response_total_m = requests.get(endpoint_total_m)\n",
    "res_total_m = response_total_m.json()\n",
    "res_total_m_df = pd.DataFrame(res_total_m)\n",
    "res_total_m_df"
   ]
  },
  {
   "cell_type": "code",
   "execution_count": null,
   "id": "4f89b362",
   "metadata": {},
   "outputs": [],
   "source": [
    "new_sum = []\n",
    "for x in res_total_m_df['SUM_query_count']:\n",
    "    x = \"\".join(x)\n",
    "    new_sum.append(x)"
   ]
  },
  {
   "cell_type": "code",
   "execution_count": null,
   "id": "75d3ddab",
   "metadata": {},
   "outputs": [],
   "source": [
    "res_total_m_df['SUM_query_count']=new_sum"
   ]
  },
  {
   "cell_type": "code",
   "execution_count": null,
   "id": "77d0281b",
   "metadata": {},
   "outputs": [],
   "source": [
    "res_total_m_df"
   ]
  },
  {
   "cell_type": "code",
   "execution_count": null,
   "id": "96f164ad",
   "metadata": {},
   "outputs": [],
   "source": [
    "res_total_m_df['SUM_query_count'] = res_total_m_df['SUM_query_count'].astype(int)"
   ]
  },
  {
   "cell_type": "code",
   "execution_count": null,
   "id": "93a84544",
   "metadata": {},
   "outputs": [],
   "source": [
    "res_total_m_df.plot(x='month_name', y='SUM_query_count', kind='bar')"
   ]
  },
  {
   "cell_type": "code",
   "execution_count": null,
   "id": "8f5e485a",
   "metadata": {},
   "outputs": [],
   "source": [
    "endpoint_hub = 'https://data.nashville.gov/resource/7qhx-rexh.json?$limit=1000000000'\n",
    "response_hub = requests.get(endpoint_hub)\n",
    "res_hub = response_hub.json()\n",
    "res_hub_df = pd.DataFrame(res_hub)\n",
    "res_hub_df"
   ]
  },
  {
   "cell_type": "code",
   "execution_count": null,
   "id": "8868bf52",
   "metadata": {},
   "outputs": [],
   "source": [
    "endpoint_1 = 'https://data.nashville.gov/resource/fuaa-r5cm.json?$limit=44000'\n",
    "response_1 = requests.get(endpoint_1)\n",
    "res_1 = response_1.json()\n",
    "res_1_df = pd.DataFrame(res_1)\n",
    "res_1_df"
   ]
  },
  {
   "cell_type": "code",
   "execution_count": null,
   "id": "abd1ad1a",
   "metadata": {},
   "outputs": [],
   "source": [
    "endpoint_complainers = 'https://data.nashville.gov/resource/479w-kw2x.json?$select=city, request'\n",
    "response_complainers = requests.get(endpoint_complainers)\n",
    "res_complainers = response_complainers.json()\n",
    "res_complainers_df = pd.DataFrame(res_complainers)\n",
    "res_complainers_df"
   ]
  },
  {
   "cell_type": "code",
   "execution_count": null,
   "id": "d0443e71",
   "metadata": {},
   "outputs": [],
   "source": [
    "#https://data.nashville.gov/resource/qywv-8sc2.json\n",
    "endpoint_police = 'https://data.nashville.gov/resource/qywv-8sc2.json?&$select=city, incident_type'\n",
    "response_police = requests.get(endpoint_police)\n",
    "res_police = response_police.json()\n",
    "res_police_df = pd.DataFrame(res_police)\n",
    "res_police_df"
   ]
  },
  {
   "cell_type": "code",
   "execution_count": null,
   "id": "ec8f6ad4",
   "metadata": {},
   "outputs": [],
   "source": [
    "merge = pd.merge(res_complainers_df,res_police_df,how='left', on='city')"
   ]
  },
  {
   "cell_type": "code",
   "execution_count": null,
   "id": "fd316a18",
   "metadata": {},
   "outputs": [],
   "source": [
    "merge"
   ]
  },
  {
   "cell_type": "code",
   "execution_count": null,
   "id": "bba15753",
   "metadata": {},
   "outputs": [],
   "source": [
    "merge_grp = merge.groupby ('city').agg ('count').sort_values(by='request',ascending=True).reset_index ()"
   ]
  },
  {
   "cell_type": "code",
   "execution_count": null,
   "id": "0a22a459",
   "metadata": {},
   "outputs": [],
   "source": [
    "merge_grp.plot(x='city',y='request', kind='barh')"
   ]
  },
  {
   "cell_type": "code",
   "execution_count": null,
   "id": "68b0047f",
   "metadata": {},
   "outputs": [],
   "source": [
    "#https://data.cdc.gov/resource/8pt5-q6wp.json\n",
    "endpoint_7 = 'https://data.cdc.gov/resource/8pt5-q6wp.json'\n",
    "response_7 = requests.get(endpoint_7)\n",
    "res_7 = response_7.json()\n",
    "res_7_df = pd.DataFrame(res_7)\n",
    "res_7_df"
   ]
  },
  {
   "cell_type": "code",
   "execution_count": null,
   "id": "e31357fa",
   "metadata": {},
   "outputs": [],
   "source": [
    "endpoint_7_TN = 'https://data.cdc.gov/resource/8pt5-q6wp.json?state=Tennessee'\n",
    "response_7_TN = requests.get(endpoint_7_TN)\n",
    "res_7_TN = response_7.json()\n",
    "res_7_TN_df = pd.DataFrame(res_7_TN)\n",
    "res_7_TN_df"
   ]
  },
  {
   "cell_type": "code",
   "execution_count": null,
   "id": "e4ab3809",
   "metadata": {},
   "outputs": [],
   "source": [
    "endpoint_8 = 'https://data.cdc.gov/resource/yni7-er2q.json?state=Tennessee'\n",
    "response_8 = requests.get(endpoint_8)\n",
    "res_8 = response_8.json()\n",
    "res_8_df = pd.DataFrame(res_8)\n",
    "res_8_df"
   ]
  },
  {
   "cell_type": "code",
   "execution_count": null,
   "id": "c7c9fef8",
   "metadata": {},
   "outputs": [],
   "source": []
  }
 ],
 "metadata": {
  "kernelspec": {
   "display_name": "Python 3 (ipykernel)",
   "language": "python",
   "name": "python3"
  },
  "language_info": {
   "codemirror_mode": {
    "name": "ipython",
    "version": 3
   },
   "file_extension": ".py",
   "mimetype": "text/x-python",
   "name": "python",
   "nbconvert_exporter": "python",
   "pygments_lexer": "ipython3",
   "version": "3.9.7"
  }
 },
 "nbformat": 4,
 "nbformat_minor": 5
}
